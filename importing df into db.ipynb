{
 "cells": [
  {
   "cell_type": "code",
   "execution_count": 1,
   "metadata": {},
   "outputs": [],
   "source": [
    "import csv\n",
    "import pandas as pd\n",
    "import mysql.connector as mysql\n",
    "import mysql.connector.errors as errors"
   ]
  },
  {
   "cell_type": "code",
   "execution_count": 2,
   "metadata": {},
   "outputs": [],
   "source": [
    "def connect_to_db(username, password, host, database):\n",
    "    try:\n",
    "        conn = mysql.connect(user=username, password=password, host=host, database=database)\n",
    "    except errors.OperationalError as e:\n",
    "        raise e\n",
    "    else:\n",
    "        print('Connected')\n",
    "    return conn"
   ]
  },
  {
   "cell_type": "code",
   "execution_count": 3,
   "metadata": {},
   "outputs": [],
   "source": [
    "def create_table(curr):\n",
    "    create_table_command = (\"\"\"CREATE TABLE IF NOT EXISTS videos1(\n",
    "                        video_id VARCHAR(255) PRIMARY KEY, \n",
    "                        video_title TEXT, \n",
    "                        upload_date DATE DEFAULT (CURRENT_DATE), \n",
    "                        view_count INTEGER, \n",
    "                        like_count INTEGER, \n",
    "                        comment_count INTEGER)\"\"\")\n",
    "    \n",
    "    curr.execute(create_table_command)"
   ]
  },
  {
   "cell_type": "code",
   "execution_count": 4,
   "metadata": {},
   "outputs": [],
   "source": [
    "def check_if_video_exists(curr, video_id):\n",
    "    query = (\"SELECT video_id FROM VIDEOS1 WHERE video_id = %s\")\n",
    "    curr.execute(query, (video_id,))\n",
    "    return curr.fetchone() is not None"
   ]
  },
  {
   "cell_type": "code",
   "execution_count": 5,
   "metadata": {},
   "outputs": [],
   "source": [
    "def update_row(curr, video_id, video_title, view_count, like_count, comment_count):\n",
    "    query = (\"\"\"UPDATE videos1\n",
    "            SET video_title = %s,\n",
    "            view_count = %s, \n",
    "            like_count = %s, \n",
    "            comment_count = %s\n",
    "            WHERE video_id = %s;\"\"\")\n",
    "    \n",
    "    vars_to_update = (video_title, view_count, like_count, comment_count, video_id)\n",
    "    curr.execute(query, vars_to_update)"
   ]
  },
  {
   "cell_type": "code",
   "execution_count": 6,
   "metadata": {},
   "outputs": [],
   "source": [
    "def update_db(curr, df):\n",
    "    tmp_df = pd.DataFrame(columns=[\"video_id\", \"video_title\", \"upload_date\",\n",
    "                                   \"view_count\", \"like_count\", \"comment_count\"])\n",
    "\n",
    "    for i, row in df.iterrows():\n",
    "        if check_if_video_exists(curr, row['video_id']):\n",
    "            update_row(curr, row['video_id'], row['video_title'], row['view_count'], row['like_count'], row['comment_count'])\n",
    "        else:\n",
    "            tmp_df = tmp_df.append(row)\n",
    "    return tmp_df"
   ]
  },
  {
   "cell_type": "code",
   "execution_count": 7,
   "metadata": {},
   "outputs": [],
   "source": [
    "def insert_into_table(curr, video_id, video_title, upload_date, view_count, like_count, comment_count):\n",
    "    insert_into_videos = (\"\"\"INSERT INTO videos1 (video_id, video_title, upload_date, view_count, like_count, comment_count)\n",
    "            VALUES(%s,%s,%s,%s,%s,%s);\"\"\")\n",
    "    row_to_insert = (video_id, video_title, upload_date, view_count, like_count, comment_count)\n",
    "    curr.execute(insert_into_videos, row_to_insert)"
   ]
  },
  {
   "cell_type": "code",
   "execution_count": 8,
   "metadata": {},
   "outputs": [],
   "source": [
    "def append_from_df_to_db(curr, df):\n",
    "    for i, row in df.iterrows():\n",
    "        insert_into_table(curr, row['video_id'], row['video_title'], row['upload_date'], row['view_count'], row['like_count'], row['comment_count'])"
   ]
  },
  {
   "cell_type": "code",
   "execution_count": 9,
   "metadata": {},
   "outputs": [
    {
     "data": {
      "text/plain": [
       "video_id         0.0\n",
       "video_title      0.0\n",
       "upload_date      0.0\n",
       "view_count       0.0\n",
       "like_count       0.0\n",
       "comment_count    0.0\n",
       "dtype: float64"
      ]
     },
     "execution_count": 9,
     "metadata": {},
     "output_type": "execute_result"
    }
   ],
   "source": [
    "df = pd.read_csv('channel_info.csv', index_col=0)\n",
    "df.head()\n",
    "\n",
    "df = df.fillna(-1)\n",
    "df.isna().mean()"
   ]
  },
  {
   "cell_type": "code",
   "execution_count": 10,
   "metadata": {},
   "outputs": [
    {
     "name": "stdout",
     "output_type": "stream",
     "text": [
      "Connected\n"
     ]
    }
   ],
   "source": [
    "username = \"root\"\n",
    "password = \"philippnesterov3\"\n",
    "host = \"localhost\"\n",
    "database = \"channel_info\"\n",
    "conn = connect_to_db(username, password, host, database)"
   ]
  },
  {
   "cell_type": "code",
   "execution_count": 11,
   "metadata": {},
   "outputs": [],
   "source": [
    "curr = conn.cursor()"
   ]
  },
  {
   "cell_type": "code",
   "execution_count": 12,
   "metadata": {},
   "outputs": [],
   "source": [
    "create_table(curr)"
   ]
  },
  {
   "cell_type": "code",
   "execution_count": 13,
   "metadata": {},
   "outputs": [],
   "source": [
    "new_video_df = update_db(curr, df)"
   ]
  },
  {
   "cell_type": "code",
   "execution_count": 14,
   "metadata": {},
   "outputs": [],
   "source": [
    "append_from_df_to_db(curr, new_video_df)"
   ]
  },
  {
   "cell_type": "code",
   "execution_count": 15,
   "metadata": {},
   "outputs": [],
   "source": [
    "conn.commit()"
   ]
  },
  {
   "cell_type": "code",
   "execution_count": null,
   "metadata": {},
   "outputs": [],
   "source": []
  }
 ],
 "metadata": {
  "kernelspec": {
   "display_name": "Python 3",
   "language": "python",
   "name": "python3"
  },
  "language_info": {
   "codemirror_mode": {
    "name": "ipython",
    "version": 3
   },
   "file_extension": ".py",
   "mimetype": "text/x-python",
   "name": "python",
   "nbconvert_exporter": "python",
   "pygments_lexer": "ipython3",
   "version": "3.8.3"
  }
 },
 "nbformat": 4,
 "nbformat_minor": 4
}
